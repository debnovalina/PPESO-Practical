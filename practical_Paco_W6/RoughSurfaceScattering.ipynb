{
 "cells": [
  {
   "cell_type": "markdown",
   "id": "324f2cd2",
   "metadata": {},
   "source": [
    "# Introduction and scope\n",
    "In this notebook you will start implemeting a forward model relating first backscatter and later also emissivity and brightness temperature at microwave frequencies to some geophysical parameters.\n",
    "Here we are going to concentrate here on the dependency of $\\sigma_0$ on\n",
    "- the roughness spectrum\n",
    "- the radar frequency (wavelength)\n",
    "- the observation geometry"
   ]
  },
  {
   "cell_type": "code",
   "execution_count": 1,
   "id": "c7c20e78",
   "metadata": {},
   "outputs": [],
   "source": [
    "# Standard imports\n",
    "import numpy as np\n",
    "from matplotlib import pyplot as plt\n",
    "import matplotlib.pyplot as mpl\n",
    "import matplotlib.cm as cm\n",
    "import pandas as pd\n",
    "import os\n",
    "from scipy import interpolate as interp\n",
    "mpl.rcParams['font.size'] = 12"
   ]
  },
  {
   "cell_type": "markdown",
   "id": "245641d5",
   "metadata": {},
   "source": [
    "# Simple roughness spectra\n",
    "As seen in the theory, we can characterize the roughness by its spectrum. We will start with the two models given in the reader. For a Gaussian autocorrelation function we have\n",
    "$$\n",
    "S_G(k_x,k_y) = \\sigma_h^2 \\frac{l^2}{\\pi} e^{-(k_x^2+k_y^2)l^2/4}.\n",
    "$$\n",
    "where $k_x$ and $k_y$ are the wave-numbers in the x and y direction, where for convenience we can assume that the radar looks in the x-direction. The parameter $l$ is the correlation length, and $\\sigma_h$ would be the rms height perturbation of the surface w.r.t. a flat one. For an exponential autocorrelation function we have the spectrum\n",
    "$$\n",
    "S_e(k_x,k_y) = \\sigma_h^2 \\frac{2l^2}{\\pi\\left(1+(k_x^2+k_y^2)l^2 \\right)^{3/2}}\n",
    "$$\n",
    "\n",
    "**In the cell below, write function or functions to compute these two spectra**"
   ]
  },
  {
   "cell_type": "code",
   "execution_count": 2,
   "id": "af2c4a9e",
   "metadata": {},
   "outputs": [
    {
     "data": {
      "text/plain": [
       "Text(0, 0.5, 'Spectrum')"
      ]
     },
     "execution_count": 2,
     "metadata": {},
     "output_type": "execute_result"
    },
    {
     "data": {
      "image/png": "[encoded data removed]",
      "text/plain": [
       "<Figure size 432x288 with 1 Axes>"
      ]
     },
     "metadata": {
      "needs_background": "light"
     },
     "output_type": "display_data"
    }
   ],
   "source": [
    "# For example, complete the code below:\n",
    "def GaussianSpectrum(kx, ky, sigma_h, l):\n",
    "    # Do something... ideally your code works with both single values or with vectors or arrays\n",
    "    # Here some dummy wrong code just to make an example plot\n",
    "    S = np.zeros_like(kx+ky)+1\n",
    "    S = S/kx.max() * sigma_h**2\n",
    "    return S  #\n",
    "\n",
    "# Now represent the spectra.\n",
    "# For example let us assume we are interested in scales going from 10 m to 1 cm\n",
    "kmin = 2*np.pi/10\n",
    "kmax = 2*np.pi/0.025\n",
    "# Since the spectrum is isotropic a 1D plot will do\n",
    "kx = np.linspace(kmin, kmax, 1000)\n",
    "plt.figure()\n",
    "plt.plot(kx, GaussianSpectrum(kx,0, 0.1, 10))\n",
    "plt.xlabel('$k_x$ [rad/m]')\n",
    "plt.ylabel('Spectrum')"
   ]
  },
  {
   "cell_type": "markdown",
   "id": "9a922b64",
   "metadata": {},
   "source": [
    "# Small perturbation model\n",
    "Now **implement a function that calculates the HH and VV polarized NRCS assuming the first ordder small perturbation model described in section 6.3.1. of the reader.**\n",
    "The function should (or could) take as inputs:\n",
    "- The radar frequency (which you need to calculate $k_0$)\n",
    "- The angle of incidence\n",
    "- The relative permitivity, $\\epsilon_r$\n",
    "- The function to calculate the spectrum (see discussion in cell below)\n",
    "- $\\sigma_h$\n",
    "- The correlation length, l"
   ]
  },
  {
   "cell_type": "code",
   "execution_count": 3,
   "id": "b1fc8d32",
   "metadata": {},
   "outputs": [],
   "source": [
    "# Your code comes here\n",
    "def NRCS_SMP(f, theta_i, epsilon_r, spec_f, sigma_h, l):\n",
    "    # You can pass a function as an argument to a function, so that you can call it\n",
    "    # it from within another function\n",
    "    # Here you would calculate k_B (equation 6.14)\n",
    "    k_B = 2*np.pi/0.05  #FIXME this is just to have some example\n",
    "    S = spec_f(k_B, 0, sigma_h, l)\n",
    "    # rest of your code\n",
    "    NRCS_vv = S\n",
    "    NRCS_hh = 0.1 * S\n",
    "    return NRCS_hh, NRCS_vv"
   ]
  },
  {
   "cell_type": "markdown",
   "id": "c7a636c4",
   "metadata": {},
   "source": [
    "Now we want to explore how the NRCS depends on the different paramters in our model. Here we are not yet interested in the dependence on $\\epsilon_r$, so take some fixed value (for example you can assume we are looking at water) For that, do the following:\n",
    "- **Fixing l=0.1 and $\\sigma_h=0.01$ compute and plot $\\sigma_{0,HH}$ and $\\sigma_{0,VV}$ as a function of the angle of incidence varing this angle between 20 and 60 degree (remember to work in radians where needed, `np.radians()` is your friend). Do this for L-band, C-band and X-band. Compare and discuss the results.**\n",
    "- **Investigate the impact of the parameter l on the NRCS. For example, you could plot the NRCS as a function of l, fixing the rest of paramters, for different wavelengths.**"
   ]
  },
  {
   "cell_type": "code",
   "execution_count": 4,
   "id": "8c55dbf6",
   "metadata": {},
   "outputs": [],
   "source": [
    "# Your code goes here"
   ]
  },
  {
   "cell_type": "markdown",
   "id": "ccca4d96",
   "metadata": {},
   "source": [
    "# Ocean scattering\n",
    "The cell below (which you do not need to study) implements the so-called Elfouhaily spectrum. At the end we have implemented the function that you want to use\n",
    "`elfouhaily_cart(kx, ky, alpha, U_10, fetch=500e3)`\n",
    "which calculates the directional spectrum at the wavenumber $(k_x,k_y)$ assuming a 10 meter wind U_10 blowing in the direction alpha with respect to the x-direction. The code is a bit picky with respect what you give it as an input. kx and ky can be numbers or vectors, alpha and U_10 should be just numbers."
   ]
  },
  {
   "cell_type": "code",
   "execution_count": 5,
   "id": "bd9b4d51",
   "metadata": {},
   "outputs": [],
   "source": [
    "# Elfouhailiy spectrum\n",
    "\n",
    "def __gamma_function( Omega_c ):\n",
    "    # Eq. 3 (below)\n",
    "    if (Omega_c > 0.84) and (Omega_c < 1.0):\n",
    "        gamma = 1.7\n",
    "    elif (Omega_c > 1.0) and (Omega_c < 5.0):\n",
    "        gamma = 1.7 + 6. * np.log10( Omega_c )\n",
    "    else:\n",
    "        warnings.warn( 'Omega_c is out of range. Returning  value for 5.0', RuntimeWarning )\n",
    "        gamma = 1.7 + 6. * np.log10( 5.0 )\n",
    "\n",
    "    return gamma\n",
    "\n",
    "\n",
    "def __alpha_m_function( ustar, c_m ):\n",
    "    # Eq. 44\n",
    "    if ustar < c_m:\n",
    "        alpha_m = 1e-2 * (1. + np.log( ustar / c_m ))\n",
    "    else:\n",
    "        alpha_m = 1e-2 * (1. + 3. * np.log( ustar / c_m ))\n",
    "\n",
    "    return alpha_m\n",
    "\n",
    "\n",
    "def elfouhaily(k, U_10, fetch):\n",
    "    rho = 1000.  # Density of water in kg/m^3\n",
    "    S = 0.072  # Surface tension of water in N/m\n",
    "    X_0 = 22e3  # Dimensionless fetch\n",
    "    # Calculated variables\n",
    "    k_m = 2 * np.pi / 0.017\n",
    "    # Eq. 3 (below)\n",
    "    k_0 = g / U_10 ** 2\n",
    "    # Eq. 4 (below)\n",
    "    X = k_0 * fetch\n",
    "    # Eq. 37: Inverse wave age\n",
    "    Omega_c = 0.84 * np.tanh( (X / X_0) ** (0.4) ) ** (-0.75)\n",
    "    # Wave phase speed (assumes deep water)\n",
    "    c = np.sqrt( g / k + S / rho * k )\n",
    "\n",
    "    # B_l: Long-wave curvature spectrum\n",
    "    # Note that in contrast to Elfouhaily's paper, the L_pm factor\n",
    "    # is applied to the both B_l and B_h.\n",
    "\n",
    "    # Eq. 3 (below)\n",
    "    k_p = k_0 * Omega_c ** 2\n",
    "    # Phase speed at the spectral peak\n",
    "    c_p = np.sqrt( g / k_p + S / rho * k_p )\n",
    "    # Eq. 32 (above): Inverse wave age parameter (dimensionless)\n",
    "    Omega = U_10 / c_p\n",
    "    # Eq. 34\n",
    "    alpha_p = 6e-3 * np.sqrt( Omega )\n",
    "\n",
    "    # Eq. 3 (below)\n",
    "    sigma = 0.08 * (1. + 4. * Omega_c ** (-3.))\n",
    "    Gamma = np.exp( -(np.sqrt( k / k_p ) - 1.) ** 2 / (2. * sigma ** 2) )\n",
    "    # Eq. 3\n",
    "    J_p = __gamma_function( Omega_c ) ** Gamma\n",
    "    # Eq. 2\n",
    "    L_pm = np.exp( -5. / 4. * (k_p / k) ** 2 )\n",
    "    # Eq. 32\n",
    "    F_p = L_pm * J_p * np.exp( -Omega / np.sqrt( 10. ) * (np.sqrt( k / k_p ) - 1.) )\n",
    "    # Eq. 32\n",
    "    B_l = 0.5 * alpha_p * c_p / c * F_p\n",
    "\n",
    "    # B_s: Short-wave curvature spectrum\n",
    "    # (McDaniel, 2001, above Equation 3.9)\n",
    "    C_10 = (0.8 + 0.065 * U_10) * 1e-3\n",
    "    # Eq. 61: Friction velocity\n",
    "    ustar = np.sqrt( C_10 ) * U_10\n",
    "\n",
    "    # Eq. 41 (above)\n",
    "    c_m = np.sqrt( g / k_m + S / rho * k_m )\n",
    "    # Eq. 41 (above)\n",
    "    alpha_m = __alpha_m_function( ustar, c_m )\n",
    "    # Eq. 41 with L_pm according to McDaniel, 2001 (in text below Equation 3.9)\n",
    "    F_m = L_pm * np.exp( -0.25 * (k / k_m - 1.) ** 2 )\n",
    "    # Eq. 40\n",
    "    B_h = 0.5 * alpha_m * c_m / c * F_m\n",
    "\n",
    "    # Eq. 30 (Final spectrum)\n",
    "    return (B_l + B_h) / k ** 3\n",
    "\n",
    "\n",
    "\n",
    "\"\"\"\n",
    "Implementation of the directional function to construct a\n",
    "directional wave spectrum, following Elfouhaily et al.\n",
    "Elfouhaily T., Chapron B., and Katsaros K. (1997). \"A unified\n",
    "directional spectrum for long and short wind driven waves\"\n",
    "J. Geophys. Res. 102 15.781-96\n",
    "LOG:\n",
    "2011-08-26 Gordon Farquharson: Removed an extra factor of 2. the code that implements from Equation 49.\n",
    "2013-01-25 Paco Lopez Dekker: Renormalized function so that the integral in theta gives 1 (instead of 0.5)\n",
    "\"\"\"\n",
    "def elfouhaily_spread( k, theta, U_10, fetch ):\n",
    "    rho = 1000.  # Density of water in kg/m^3\n",
    "    S = 0.072  # Surface tension of water in N/m\n",
    "    X_0 = 22e3  # Dimensionless fetch\n",
    "    # Eq. 3 (below)\n",
    "    k_0 = g / U_10 ** 2\n",
    "    # Eq. 4 (below)\n",
    "    X = k_0 * fetch\n",
    "    # Eq. 37\n",
    "    Omega_c = 0.84 * np.tanh( (X / X_0) ** (0.4) ) ** (-0.75)\n",
    "    cK = np.sqrt( g / k + S / rho * k )\n",
    "\n",
    "    # Eq. 3 (below)\n",
    "    k_p = k_0 * Omega_c ** 2\n",
    "    cK_p = np.sqrt( g / k_p + S / rho * k_p )\n",
    "\n",
    "    # Eq. 24\n",
    "    k_m = np.sqrt( rho * g / S )\n",
    "    cK_m = np.sqrt( g / k_m + S / rho * k_m )\n",
    "\n",
    "    # (McDaniel, 2001, above Equation 3.9)\n",
    "    C_10 = (0.8 + 0.065 * U_10) * 1e-3\n",
    "    # Eq. 61\n",
    "    ustar = np.sqrt( C_10 ) * U_10\n",
    "\n",
    "    # Eq. 59\n",
    "    a_0 = np.log( 2. ) / 4.\n",
    "    a_p = 4.\n",
    "    a_m = 0.13 * ustar / cK_m\n",
    "\n",
    "    # Eq. 57\n",
    "    Delta = np.tanh( a_0 + a_p * (cK / cK_p) ** 2.5 + a_m * (cK_m / cK) ** 2.5 )\n",
    "    # Eq. 49\n",
    "    G = np.where( np.logical_and(theta >= -np.pi / 2, theta < np.pi / 2.), (1. + Delta * np.cos( 2. * theta )) / (np.pi), 0 )\n",
    "\n",
    "    return G\n",
    "\n",
    "def elfouhaily_cart(kx, ky, alpha, U_10, fetch=500e3):\n",
    "    '''\n",
    "    kx and ky are the wavenumber components\n",
    "    alpha is the wind direction with respect the x-axis, in radians!\n",
    "    U_10 is the wind speed\n",
    "    \n",
    "    '''\n",
    "    k = np.sqrt(kx**2 + ky**2)\n",
    "    S_omni = elfouhaily(k, U_10, fetch)\n",
    "    k_dir = np.arctan2(ky, kx)\n",
    "    a1 = np.angle(np.exp(1j*(alpha-k_dir)))\n",
    "    a2 = np.angle(np.exp(1j*(alpha-k_dir-np.pi)))\n",
    "    D = (elfouhaily_spread( k, a1, U_10, fetch) + \n",
    "         elfouhaily_spread( k, a2, U_10, fetch))/2\n",
    "    S = np.where(k==0, 0, S_omni * D / k)\n",
    "    return S\n",
    "\n",
    "\n",
    "\n",
    "\n",
    "\n",
    "\n",
    "    "
   ]
  },
  {
   "cell_type": "markdown",
   "id": "2d1c0560",
   "metadata": {},
   "source": [
    "Below you can find a plot as a function of $k_x$ for $k_y=0$"
   ]
  },
  {
   "cell_type": "code",
   "execution_count": 6,
   "id": "e59ced8e",
   "metadata": {},
   "outputs": [
    {
     "data": {
      "text/plain": [
       "[<matplotlib.lines.Line2D at 0x7fd3f34de490>]"
      ]
     },
     "execution_count": 6,
     "metadata": {},
     "output_type": "execute_result"
    },
    {
     "data": {
      "image/png": "[encoded data removed]",
      "text/plain": [
       "<Figure size 432x288 with 1 Axes>"
      ]
     },
     "metadata": {
      "needs_background": "light"
     },
     "output_type": "display_data"
    },
    {
     "data": {
      "image/png": "[encoded data removed]",
      "text/plain": [
       "<Figure size 432x288 with 1 Axes>"
      ]
     },
     "metadata": {
      "needs_background": "light"
     },
     "output_type": "display_data"
    }
   ],
   "source": [
    "kmin = 2*np.pi/10\n",
    "kmax = 2*np.pi/0.025\n",
    "# Since the spectrum is isotropic a 1D plot will do\n",
    "kx = np.linspace(kmin, kmax, 1000)\n",
    "\n",
    "plt.figure()\n",
    "for a in np.radians([-135,-90,-45,0,45]):\n",
    "    S = elfouhaily_cart(kx,0,a,10)\n",
    "    plt.plot(kx, S)\n",
    "plt.yscale('log')\n",
    "plt.xlabel('$k_x$ [rad/m]')\n",
    "plt.figure()\n",
    "plt.plot(np.linspace(-np.pi,np.pi),elfouhaily_cart(125,0,np.linspace(-np.pi,np.pi),10))\n"
   ]
  },
  {
   "cell_type": "markdown",
   "id": "12196c0f",
   "metadata": {},
   "source": [
    "**Implement a function that calculates the NRCS as a function for a wind-driven ocean surface as a function of frequency, angle of incidence, $U_{10}$ and wind direction. Generate the follwing plots:**\n",
    "- **C-band NRCS as function of angle of incidence fixing U=10 and $\\alpha$=45 degree**.\n",
    "- **C-band NRCS as function of wind-direction for $\\theta_i$ set to 20, 30 and 40 degree, fixing U=10**.\n",
    "- **C-band NRCS as function of wind-speed for $\\theta_i$ set to 20, 30 and 40 degree, setting $\\alpha$=45 degree**."
   ]
  },
  {
   "cell_type": "code",
   "execution_count": 13,
   "id": "34289e23",
   "metadata": {},
   "outputs": [
    {
     "data": {
      "text/plain": [
       "1j"
      ]
     },
     "execution_count": 13,
     "metadata": {},
     "output_type": "execute_result"
    }
   ],
   "source": [
    "# Your code comes here...\n",
    "np.sqrt(-1+0j)"
   ]
  }
 ],
 "metadata": {
  "kernelspec": {
   "display_name": "Python 3",
   "language": "python",
   "name": "python3"
  },
  "language_info": {
   "codemirror_mode": {
    "name": "ipython",
    "version": 3
   },
   "file_extension": ".py",
   "mimetype": "text/x-python",
   "name": "python",
   "nbconvert_exporter": "python",
   "pygments_lexer": "ipython3",
   "version": "3.9.5"
  }
 },
 "nbformat": 4,
 "nbformat_minor": 5
}
