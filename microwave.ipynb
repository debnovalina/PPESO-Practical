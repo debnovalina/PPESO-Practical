{
 "cells": [
  {
   "cell_type": "code",
   "execution_count": 1,
   "metadata": {},
   "outputs": [],
   "source": [
    "import numpy as np\n",
    "from matplotlib import pyplot as plt"
   ]
  },
  {
   "cell_type": "code",
   "execution_count": null,
   "metadata": {},
   "outputs": [
    {
     "data": {
      "text/plain": [
       "80.0888"
      ]
     },
     "execution_count": 1,
     "metadata": {},
     "output_type": "execute_result"
    }
   ],
   "source": [
    "#static dielectric constant of water\n",
    "def static_dia_water(T):\n",
    "    e_w0 = 88.045 - 0.4147*T + 6.295*1e-4*T**2 + 1.075e-5*T**3\n",
    "    return e_w0\n",
    "\n",
    "def chill_t_water(T):\n",
    "    relax_t = (1.1109e-10 - 3.824e-12*T + 6.938e-14*T**2 - 5.096e-16*T**3) / (2*np.pi) # T in C\n",
    "    return relax_t\n",
    "\n",
    "def dielectric_water(f, T):\n",
    "    e_inf = 4.9\n",
    "    e_w0 = static_dia_water(T)\n",
    "    rt = chill_t_water(T)\n",
    "    e_real = e_inf + (e_w0 - e_inf) / (1 + (2*np.pi* f* rt)**2)\n",
    "    e_imag = ((2*np.pi * f* rt)*(e_w0 - e_inf)) / (1 + (2*np.pi* f* rt)**2)\n",
    "    return e_real, e_imag\n"
   ]
  },
  {
   "cell_type": "code",
   "execution_count": null,
   "metadata": {},
   "outputs": [],
   "source": [
    "f = np.linspace(0, 100, 1000)"
   ]
  }
 ],
 "metadata": {
  "kernelspec": {
   "display_name": "Python 3",
   "language": "python",
   "name": "python3"
  },
  "language_info": {
   "codemirror_mode": {
    "name": "ipython",
    "version": 3
   },
   "file_extension": ".py",
   "mimetype": "text/x-python",
   "name": "python",
   "nbconvert_exporter": "python",
   "pygments_lexer": "ipython3",
   "version": "3.12.4"
  }
 },
 "nbformat": 4,
 "nbformat_minor": 2
}
